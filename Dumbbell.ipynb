{
 "cells": [
  {
   "cell_type": "markdown",
   "metadata": {},
   "source": [
    "# Dumbbell"
   ]
  },
  {
   "cell_type": "code",
   "execution_count": null,
   "metadata": {},
   "outputs": [],
   "source": [
    "%matplotlib inline\n",
    "from utils import *"
   ]
  },
  {
   "cell_type": "markdown",
   "metadata": {},
   "source": [
    "### set 2-spin systems"
   ]
  },
  {
   "cell_type": "code",
   "execution_count": null,
   "metadata": {},
   "outputs": [],
   "source": [
    "is_Ising = False\n",
    "beta = 0.8\n",
    "gamma = 2.5\n",
    "lamda_c, lamda_cp, Delta_c = get_lambda_c(beta, gamma, Ising=is_Ising, verbose=True)"
   ]
  },
  {
   "cell_type": "code",
   "execution_count": null,
   "metadata": {},
   "outputs": [],
   "source": [
    "lamda = 53.6\n",
    "A, b = set_spin(beta=beta, gamma=gamma, lamda=lamda, Ising=is_Ising)"
   ]
  },
  {
   "cell_type": "markdown",
   "metadata": {},
   "source": [
    "### generate $G$"
   ]
  },
  {
   "cell_type": "code",
   "execution_count": null,
   "metadata": {},
   "outputs": [],
   "source": [
    "n = int(5e2)\n",
    "Delta = 7\n",
    "# avg_Delta = 6.\n",
    "\n",
    "# G = generate_gnp(n=n, p=avg_Delta/(n-1), verbose=False, save=False, seed=None)\n",
    "G = generate_gd(n=n, D=Delta, verbose=False, save=False, seed=None)\n",
    "# G = generate_lattice(row=10, col=10, verbose=False, save=False)\n",
    "# G = generate_d_regular_bipartitle(n=n//2, d=3, verbose=False, save=False)\n",
    "# G = random_tree(n)\n",
    "# G = star_graph(n-1)"
   ]
  },
  {
   "cell_type": "markdown",
   "metadata": {},
   "source": [
    "### run *Dumbbell*"
   ]
  },
  {
   "cell_type": "code",
   "execution_count": null,
   "metadata": {},
   "outputs": [],
   "source": [
    "iters = int(1e5)\n",
    "\n",
    "# starts from all 0\n",
    "cfg_all_0 = np.zeros(n, dtype=int)\n",
    "samples_0 = sample_cnt(G, A, b, cfg_all_0, iters)\n",
    "\n",
    "# starts from all 1\n",
    "cfg_all_1 = np.ones(n, dtype=int)\n",
    "samples_1 = sample_cnt(G, A, b, cfg_all_1, iters)"
   ]
  },
  {
   "cell_type": "markdown",
   "metadata": {},
   "source": [
    "### plot figures"
   ]
  },
  {
   "cell_type": "code",
   "execution_count": null,
   "metadata": {},
   "outputs": [],
   "source": [
    "plt.figure(figsize=(10,5))\n",
    "plt.title(r'$\\beta$={:.2f}  $\\gamma$={:.2f}\\\n",
    "            $\\lambda$={:.2f}\\\n",
    "            $\\lambda_c$={:.2f}  $\\lambda_cint$={:.2f}\\\n",
    "            $\\Delta$={:}   $|V|={:}$'.format(\n",
    "            beta, gamma, \n",
    "            lamda, \n",
    "            lamda_c, lamda_cp, \n",
    "            Delta, n\n",
    "            ))\n",
    "plt.bar(np.arange(samples_0.size), samples_0, color='b', alpha=.5)\n",
    "plt.bar(np.arange(samples_1.size), samples_1, color='r', alpha=.5)\n",
    "plt.legend(['starts from all 0', 'starts from all 1'])\n",
    "plt.savefig('/Users/philchen/Desktop/dumbbell.png',dpi=150)\n",
    "plt.show()"
   ]
  },
  {
   "cell_type": "code",
   "execution_count": null,
   "metadata": {},
   "outputs": [],
   "source": [
    "# plt.figure(figsize=(12,5))\n",
    "# plt.bar(np.arange(samples_0.size), samples_0, color='b')\n",
    "# plt.legend(['starts from all 0'])\n",
    "# plt.show()\n",
    "\n",
    "# plt.figure(figsize=(12,5))\n",
    "# plt.bar(np.arange(samples_1.size), samples_1, color='r')\n",
    "# plt.legend(['starts from all 1'])\n",
    "# plt.show()"
   ]
  },
  {
   "cell_type": "code",
   "execution_count": null,
   "metadata": {},
   "outputs": [],
   "source": [
    "# # starts from random initialization\n",
    "# init_cfg = np.random.binomial(n=1, p=0.1, size=n).astype(np.int8)\n",
    "# samples_2 = sample_cnt(G, A, b, init_cfg, iters)\n",
    "# print(init_cfg.sum())\n",
    "\n",
    "# plt.figure(figsize=(12,5))\n",
    "# plt.bar(np.arange(samples_2.size), samples_2, color='g')\n",
    "# plt.legend(['starts from {}'.format(init_cfg.sum())])\n",
    "# plt.show()"
   ]
  }
 ],
 "metadata": {
  "kernelspec": {
   "display_name": "Python 3",
   "language": "python",
   "name": "python3"
  },
  "language_info": {
   "codemirror_mode": {
    "name": "ipython",
    "version": 3
   },
   "file_extension": ".py",
   "mimetype": "text/x-python",
   "name": "python",
   "nbconvert_exporter": "python",
   "pygments_lexer": "ipython3",
   "version": "3.6.1"
  }
 },
 "nbformat": 4,
 "nbformat_minor": 2
}
