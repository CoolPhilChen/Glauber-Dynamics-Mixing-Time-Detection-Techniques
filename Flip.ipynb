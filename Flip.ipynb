{
 "cells": [
  {
   "cell_type": "markdown",
   "metadata": {},
   "source": [
    "# Flip"
   ]
  },
  {
   "cell_type": "code",
   "execution_count": null,
   "metadata": {},
   "outputs": [],
   "source": [
    "%matplotlib inline\n",
    "from utils import *"
   ]
  },
  {
   "cell_type": "markdown",
   "metadata": {},
   "source": [
    "### set 2-spin systems"
   ]
  },
  {
   "cell_type": "code",
   "execution_count": null,
   "metadata": {},
   "outputs": [],
   "source": [
    "is_Ising = False\n",
    "beta = 0.8\n",
    "gamma = 2.5\n",
    "lamda_c, lamda_cp, Delta_c = get_lambda_c(beta, gamma, Ising=is_Ising, verbose=True)"
   ]
  },
  {
   "cell_type": "code",
   "execution_count": null,
   "metadata": {},
   "outputs": [],
   "source": [
    "lamda = lamda_cp\n",
    "A, b = set_spin(beta=beta, gamma=gamma, lamda=lamda, Ising=is_Ising)"
   ]
  },
  {
   "cell_type": "markdown",
   "metadata": {},
   "source": [
    "### run *Flip*"
   ]
  },
  {
   "cell_type": "code",
   "execution_count": null,
   "metadata": {},
   "outputs": [],
   "source": [
    "nb_nodes = np.arange(100, 1000.1, 50, dtype=int)"
   ]
  },
  {
   "cell_type": "code",
   "execution_count": null,
   "metadata": {},
   "outputs": [],
   "source": [
    "# Delta = 9\n",
    "avg_Delta = 8.\n",
    "\n",
    "Steps = []\n",
    "for n in tqdm(nb_nodes):\n",
    "    # random regular graphs\n",
    "    # G = generate_gd(n=n, D=Delta, verbose=False, save=False, seed=None)    \n",
    "    \n",
    "    # Erdos-Renyi graphs\n",
    "    G = generate_gnp(n=n, p=avg_Delta/(n-1), verbose=False, save=False, seed=None)    \n",
    "    \n",
    "    steps = []\n",
    "    for i in range(5):\n",
    "        step = space_travel(G, A, b, start=0, alpha=0.5)\n",
    "        steps.append(step)\n",
    "    Steps.append(steps)\n",
    "    plot(Steps)\n",
    "Steps = np.array(Steps)"
   ]
  },
  {
   "cell_type": "code",
   "execution_count": null,
   "metadata": {},
   "outputs": [],
   "source": [
    "Steps = np.array(Steps)\n",
    "plt.figure(figsize=(12,8))\n",
    "plt.title(r'$\\beta$={:.1f}   $\\gamma$={:.1f}\\\n",
    "          $\\lambda={:.2f}$\\\n",
    "          $avg \\Delta$={:}   $\\Delta_c$={:.2f}'.format(\n",
    "            beta, gamma, lamda, avg_Delta, Delta_c))\n",
    "# plt.title(r'$\\beta$={:.1f}   $\\gamma$={:.1f}\\\n",
    "#           $\\lambda={:.2f}$\\\n",
    "#           $\\Delta$={:}   $\\Delta_c+1$={:.2f}'.format(\n",
    "#             beta, gamma, lamda, Delta, Delta_c+1))\n",
    "plt.xlabel('n')\n",
    "plt.ylabel('step')\n",
    "# plt.yscale('log')\n",
    "\n",
    "plt.plot(Steps.mean(axis=1))\n",
    "# plt.plot(Steps.mean(axis=1)/Steps.mean(axis=1).max())\n",
    "\n",
    "plt.xticks(np.arange(nb_nodes.size), nb_nodes, rotation='vertical')\n",
    "\n",
    "# plt.savefig('/Users/philchen/Desktop/beta={:.1f}_gamma={:.1f}_lambda={:.2f}_avgDelta={:}.png'.format(beta, gamma, lamda, avg_Delta),dpi=150)\n",
    "# plt.savefig('/Users/philchen/Desktop/beta={:.1f}_gamma={:.1f}_lambda={:.2f}_Delta={:}.png'.format(beta, gamma, lamda, Delta),dpi=150)\n",
    "plt.show()"
   ]
  },
  {
   "cell_type": "code",
   "execution_count": null,
   "metadata": {},
   "outputs": [],
   "source": [
    "def plot(steps):\n",
    "    Steps = np.array(steps)\n",
    "#     plt.title(r'$\\beta$={:.1f}   $\\gamma$={:.1f}\\\n",
    "#               $\\lambda={:.2f}$\\\n",
    "#               $\\Delta$={:}   $\\Delta_c+1$={:.2f}'.format(\n",
    "#                 beta, gamma, lamda, Delta, Delta_c+1))\n",
    "    plt.xlabel('n')\n",
    "    plt.ylabel('step')\n",
    "    # plt.xscale('log')\n",
    "    # plt.yscale('log')\n",
    "\n",
    "    plt.plot(Steps.mean(axis=1))\n",
    "    # plt.plot(Steps.mean(axis=1)/Steps.mean(axis=1).max())\n",
    "\n",
    "    plt.xticks(np.arange(nb_nodes[:].size), nb_nodes[:], rotation='vertical')\n",
    "\n",
    "#     plt.savefig('/Users/philchen/Desktop/beta={:.1f}_gamma={:.1f}_lambda={:.2f}_Delta={:}.png'.format(beta, gamma, lamda, Delta),dpi=150)\n",
    "    plt.show()"
   ]
  }
 ],
 "metadata": {
  "kernelspec": {
   "display_name": "Python 3",
   "language": "python",
   "name": "python3"
  },
  "language_info": {
   "codemirror_mode": {
    "name": "ipython",
    "version": 3
   },
   "file_extension": ".py",
   "mimetype": "text/x-python",
   "name": "python",
   "nbconvert_exporter": "python",
   "pygments_lexer": "ipython3",
   "version": "3.6.1"
  }
 },
 "nbformat": 4,
 "nbformat_minor": 2
}
