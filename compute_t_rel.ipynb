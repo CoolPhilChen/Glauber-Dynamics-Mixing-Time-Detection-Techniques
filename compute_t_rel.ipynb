{
 "cells": [
  {
   "cell_type": "markdown",
   "metadata": {},
   "source": [
    "# Compute $t_\\mathrm{rel}$"
   ]
  },
  {
   "cell_type": "code",
   "execution_count": null,
   "metadata": {},
   "outputs": [],
   "source": [
    "%matplotlib inline\n",
    "from utils import *"
   ]
  },
  {
   "cell_type": "markdown",
   "metadata": {},
   "source": [
    "## Fix $\\Delta$, vary $\\lambda$ and $n$"
   ]
  },
  {
   "cell_type": "code",
   "execution_count": null,
   "metadata": {},
   "outputs": [],
   "source": [
    "is_Ising = True\n",
    "beta = 1.8\n",
    "gamma = 1.8\n",
    "lamda_c, lamda_cp, Delta_c = get_lambda_c(beta, gamma, Ising=is_Ising, verbose=True)"
   ]
  },
  {
   "cell_type": "code",
   "execution_count": null,
   "metadata": {},
   "outputs": [],
   "source": [
    "lamdas = np.arange(.02, 2., .02)\n",
    "# print(lamdas.size, lamdas.min(), lamdas.max())"
   ]
  },
  {
   "cell_type": "code",
   "execution_count": null,
   "metadata": {},
   "outputs": [],
   "source": [
    "# Delta = 3\n",
    "avg_Delta = 3.\n",
    "\n",
    "n_t_rels = []\n",
    "# n_min = 4; n_max = 8; gap = 1\n",
    "nb_n = 100\n",
    "\n",
    "for n in range(n_min, n_max+1, gap):\n",
    "# for n in tqdm([7]*nb_n):\n",
    "    G = generate_gd(n=n, D=Delta, verbose=False, save=False, seed=None)\n",
    "    #G = generate_gnp(n=n, p=avg_Delta/(n-1), verbose=False, save=False, seed=None)\n",
    "    t_rels = []\n",
    "\n",
    "    for lamda in tqdm(lamdas):\n",
    "    #for lamda in lamdas:\n",
    "        A, b = set_spin(beta=beta, gamma=gamma, lamda=lamda, Ising=is_Ising)\n",
    "        P, pi = get_transition_matrix(G, A, b, verbose=False)\n",
    "        t_rel = get_t_rel(P)\n",
    "        t_rels.append(t_rel)\n",
    "    \n",
    "    n_t_rels.append(t_rels)\n",
    "\n",
    "n_t_rels = np.array(n_t_rels)"
   ]
  },
  {
   "cell_type": "code",
   "execution_count": null,
   "metadata": {},
   "outputs": [],
   "source": [
    "nb_n = (n_max-n_min)/gap+1\n",
    "for n in range(int(nb_n)):\n",
    "    print(lamdas[n_t_rels[n].argmax()])"
   ]
  },
  {
   "cell_type": "code",
   "execution_count": null,
   "metadata": {},
   "outputs": [],
   "source": [
    "# plot\n",
    "plt.figure(figsize=(10,6))\n",
    "plt.title(r'$\\beta$={:.2f}  $\\gamma$={:.2f}\\\n",
    "            $\\lambda_c$={:.2f}  $\\lambda_cint$={:.2f}\\\n",
    "            $\\Delta$={:}   $\\Delta_c+1={:.2f}$'.format(\n",
    "            beta, gamma, lamda_c, lamda_cp, Delta, Delta_c+1\n",
    "            ))\n",
    "# plt.title(r'$\\beta$={:.1f}   $\\gamma$={:.1f}\\\n",
    "#           $\\lambda_c$={:.2f}  $\\lambda_cint$={:.2f}\\\n",
    "#           $avg \\Delta$={:.2f}   $\\Delta_c$={:.2f}'.format(\n",
    "#             beta, gamma, lamda_c, lamda_cp, avg_Delta, Delta_c\n",
    "#             ))\n",
    "plt.xlabel(r'$\\lambda$')\n",
    "plt.ylabel(r'$t_{rel}$')\n",
    "# plt.yscale('log')\n",
    "\n",
    "nb_n = (n_max-n_min)/gap+1\n",
    "for n in range(int(nb_n)):\n",
    "    t_rels = n_t_rels[n]\n",
    "    plt.plot(lamdas, t_rels/n_t_rels.max())\n",
    "#     plt.plot(lamdas, t_rels)\n",
    "\n",
    "lambda_legends = []\n",
    "for i in np.arange(n_min, n_max+1, gap):\n",
    "    lambda_legends.append('n='+str(i))\n",
    "plt.legend(lambda_legends)\n",
    "\n",
    "# plt.vlines(x=lamda_c, ymin=0.0, ymax=1.0, colors='r', linestyles='-.')\n",
    "# plt.vlines(x=lamda_cp, ymin=-0.1, ymax=1.1, colors='r', linestyles='-.')\n",
    "plt.vlines(x=1.0, ymin=0., ymax=1., colors='r', linestyles='-.')\n",
    "\n",
    "plt.savefig('/Users/philchen/Desktop/lambda-t_rel-n.png',dpi=150)\n",
    "plt.show()"
   ]
  },
  {
   "cell_type": "markdown",
   "metadata": {},
   "source": [
    "## Fix $\\lambda$, vary $n$ and $\\Delta$"
   ]
  },
  {
   "cell_type": "code",
   "execution_count": null,
   "metadata": {},
   "outputs": [],
   "source": [
    "is_Ising = False\n",
    "beta = 0.8\n",
    "gamma = 7.0\n",
    "lamda_c, lamda_cp, Delta_c = get_lambda_c(beta, gamma, Ising=is_Ising, verbose=True)"
   ]
  },
  {
   "cell_type": "code",
   "execution_count": null,
   "metadata": {},
   "outputs": [],
   "source": [
    "lamda = 100.\n",
    "A, b = set_spin(beta=beta, gamma=gamma, lamda=lamda, Ising=is_Ising)\n",
    "\n",
    "n_min = 6; n_max = 12; gap = 2\n",
    "\n",
    "n_t_rels = []\n",
    "for n in range(n_min, n_max+1, gap):\n",
    "    Deltas = np.arange(2, n-1+0.1, 1, dtype=int)\n",
    "    t_rels = []\n",
    "\n",
    "    for Delta in tqdm(Deltas):\n",
    "        G = generate_gd(n=n, D=Delta, verbose=False, save=False, seed=None)\n",
    "        P, pi = get_transition_matrix(G, A, b, verbose=False)\n",
    "        t_rel = get_t_rel(P)\n",
    "        t_rels.append(t_rel)\n",
    "    \n",
    "    n_t_rels.append(t_rels)"
   ]
  },
  {
   "cell_type": "code",
   "execution_count": null,
   "metadata": {},
   "outputs": [],
   "source": [
    "# plot\n",
    "# plt.figure(figsize=(10,6))\n",
    "plt.title(r'$\\beta$={:.2f}  $\\gamma$={:.2f}\\\n",
    "            $\\lambda$={:.2f}  $\\lambda_cint$={:.2f}\\\n",
    "            $\\Delta_c+1={:.2f}$'.format(\n",
    "            beta, gamma, lamda, lamda_cp, Delta_c+1\n",
    "            ))\n",
    "plt.xlabel(r'$\\Delta$')\n",
    "plt.ylabel(r'$t_{rel}$')\n",
    "# plt.yscale('log')\n",
    "\n",
    "nb_n = (n_max-n_min)/gap+1\n",
    "for n in range(int(nb_n)):\n",
    "    t_rels = n_t_rels[n]\n",
    "    plt.plot(np.arange(len(t_rels))+2, t_rels)\n",
    "\n",
    "lambda_legends = []\n",
    "for i in np.arange(n_min, n_max+1, gap):\n",
    "    lambda_legends.append('n='+str(i))\n",
    "plt.legend(lambda_legends)\n",
    "\n",
    "# plt.savefig('/Users/philchen/Desktop/Delta-t_rel-n.png',dpi=150)\n",
    "plt.show()"
   ]
  },
  {
   "cell_type": "markdown",
   "metadata": {},
   "source": [
    "## Fix $n$ and $\\Delta$, vary $\\lambda$"
   ]
  },
  {
   "cell_type": "code",
   "execution_count": null,
   "metadata": {},
   "outputs": [],
   "source": [
    "is_Ising = False\n",
    "beta = 0.8\n",
    "gamma = 7.0\n",
    "lamda_c, lamda_cp, Delta_c = get_lambda_c(beta, gamma, Ising=is_Ising, verbose=True)\n",
    "# print('{:.5f}'.format(m.sqrt(gamma/beta)))\n",
    "# print('{:.5f}'.format(gamma/beta))"
   ]
  },
  {
   "cell_type": "code",
   "execution_count": null,
   "metadata": {},
   "outputs": [],
   "source": [
    "# G = generate_gnp(n=15, p=0.5, verbose=False, save=False, seed=None)\n",
    "G = generate_gd(n=8, D=3, verbose=False, save=False, seed=None)\n",
    "# G = generate_lattice(row=3, col=5, verbose=False, save=False)\n",
    "# G = generate_d_regular_bipartitle(n=7, d=3, verbose=False, save=False)"
   ]
  },
  {
   "cell_type": "code",
   "execution_count": null,
   "metadata": {},
   "outputs": [],
   "source": [
    "lamdas = np.arange(1.0, 20.1, 1.0)\n",
    "print(lamdas.size, lamdas.min(), lamdas.max())"
   ]
  },
  {
   "cell_type": "code",
   "execution_count": null,
   "metadata": {},
   "outputs": [],
   "source": [
    "t_rels = []\n",
    "\n",
    "for lamda in tqdm(lamdas):\n",
    "    A, b = set_spin(beta=beta, gamma=gamma, lamda=lamda, Ising=is_Ising)\n",
    "    P, pi = get_transition_matrix(G, A, b, verbose=False)\n",
    "    t_rel = get_t_rel(P)\n",
    "    t_rels.append(t_rel)\n",
    "\n",
    "t_rels = np.array(t_rels)"
   ]
  },
  {
   "cell_type": "code",
   "execution_count": null,
   "metadata": {},
   "outputs": [],
   "source": [
    "# plot\n",
    "# plt.figure(figsize=(12,10))\n",
    "plt.title(r'$\\beta$={:.2f}  $\\gamma$={:.2f}  $\\lambda_c$={:.2f}  $\\lambda_cint$={:.2f}'.format(beta, gamma, lamda_c, lamda_cp))\n",
    "# plt.yscale('log')\n",
    "plt.xlabel(r'$\\lambda$')\n",
    "plt.ylabel(r'$t_{rel}$')\n",
    "\n",
    "# plt.plot(lamdas, t_rels)\n",
    "plt.plot(lamdas, t_rels/t_rels.max())\n",
    "\n",
    "# plt.vlines(x=lamda_c, ymin=0, ymax=1, colors='r', linestyles='-.')\n",
    "plt.vlines(x=lamda_cp, ymin=0, ymax=1, colors='r', linestyles='-.')\n",
    "\n",
    "# plt.savefig('/Users/philchen/Desktop/lambda-t_rel.png',dpi=150)\n",
    "plt.show()"
   ]
  },
  {
   "cell_type": "markdown",
   "metadata": {},
   "source": [
    "# Fix $n$ and $\\lambda$, vary $\\Delta$"
   ]
  },
  {
   "cell_type": "code",
   "execution_count": null,
   "metadata": {},
   "outputs": [],
   "source": [
    "is_Ising = False\n",
    "beta = 0.8\n",
    "gamma = 7.0\n",
    "lamda_c, lamda_cp, Delta_c = get_lambda_c(beta, gamma, Ising=is_Ising, verbose=True)\n",
    "# print('{:.5f}'.format(m.sqrt(gamma/beta)))\n",
    "# print('{:.5f}'.format(gamma/beta))"
   ]
  },
  {
   "cell_type": "code",
   "execution_count": null,
   "metadata": {},
   "outputs": [],
   "source": [
    "nb_nodes = 10\n",
    "Deltas = np.arange(2, nb_nodes-1+0.1, 1, dtype=int)\n",
    "print(Deltas.size, Deltas.min(), Deltas.max())"
   ]
  },
  {
   "cell_type": "code",
   "execution_count": null,
   "metadata": {},
   "outputs": [],
   "source": [
    "lamda = 10.\n",
    "A, b = set_spin(beta=beta, gamma=gamma, lamda=lamda, Ising=is_Ising)\n",
    "\n",
    "t_rels = []\n",
    "for Delta in tqdm(Deltas):\n",
    "    G = generate_gd(n=nb_nodes, D=Delta, verbose=False, save=False, seed=None)\n",
    "    P, pi = get_transition_matrix(G, A, b, verbose=True)\n",
    "    t_rel = get_t_rel(P)\n",
    "    t_rels.append(t_rel)\n",
    "t_rels = np.array(t_rels)"
   ]
  },
  {
   "cell_type": "code",
   "execution_count": null,
   "metadata": {},
   "outputs": [],
   "source": [
    "# plot\n",
    "plt.figure(figsize=(8,5))\n",
    "plt.title(r'n={0:}\\\n",
    "            $\\beta$={1:.2f}   $\\gamma$={2:.2f}   $\\lambda$={3:.2f}\\\n",
    "            $\\lambda_cint$={4:.2f}   $\\Delta_c+1$={5:.2f}'.format(\n",
    "            nb_nodes, \n",
    "            beta, gamma, lamda,\n",
    "            lamda_cp, Delta_c+1))\n",
    "# plt.yscale('log')\n",
    "plt.xlabel(r'$\\Delta$')\n",
    "plt.ylabel(r'$t_{rel}$')\n",
    "\n",
    "plt.plot(Deltas[:], t_rels[:])\n",
    "plt.scatter(np.arange(t_rels.size)+2, t_rels, c='r')\n",
    "\n",
    "plt.savefig('/Users/philchen/Desktop/Delta-t_rel.png',dpi=150)\n",
    "# plt.savefig('/Users/philchen/Desktop/beta={:.1f}_gamma={:.1f}_lambda={:.2f}.png'.format(beta, gamma, lamda),dpi=150)\n",
    "plt.show()\n",
    "# print(t_rels)"
   ]
  },
  {
   "cell_type": "markdown",
   "metadata": {},
   "source": [
    "# Fix $\\lambda$ and $\\Delta$, vary $n$"
   ]
  },
  {
   "cell_type": "code",
   "execution_count": null,
   "metadata": {},
   "outputs": [],
   "source": [
    "is_Ising = False\n",
    "beta = 2.0\n",
    "gamma = 10.0\n",
    "lamda_c, lamda_cp, Delta_c = get_lambda_c(beta, gamma, Ising=is_Ising, verbose=True)"
   ]
  },
  {
   "cell_type": "code",
   "execution_count": null,
   "metadata": {},
   "outputs": [],
   "source": [
    "nb_nodes = np.arange(5, 10.1, 1, dtype=int)\n",
    "print(nb_nodes.size, nb_nodes.min(), nb_nodes.max())"
   ]
  },
  {
   "cell_type": "code",
   "execution_count": null,
   "metadata": {},
   "outputs": [],
   "source": [
    "lamda = 10.0\n",
    "Delta = 4\n",
    "A, b = set_spin(beta=beta, gamma=gamma, lamda=lamda, Ising=is_Ising)\n",
    "\n",
    "t_rels = []\n",
    "for n in tqdm(nb_nodes):\n",
    "    G = generate_gd(n=n, D=Delta, verbose=False, save=False, seed=None)\n",
    "    P, pi = get_transition_matrix(G, A, b, verbose=False)\n",
    "    t_rel = get_t_rel(P)\n",
    "    t_rels.append(t_rel)\n",
    "t_rels = np.array(t_rels)"
   ]
  },
  {
   "cell_type": "code",
   "execution_count": null,
   "metadata": {},
   "outputs": [],
   "source": [
    "# plot\n",
    "# plt.figure(figsize=(12,10))\n",
    "plt.title(r'$\\lambda$={:.2f}   $\\Delta$={:}   $\\Delta_c+1$={:.2f}'.format(lamda, Delta, Delta_c+1))\n",
    "# plt.yscale('log')\n",
    "plt.xlabel(r'$n$')\n",
    "plt.ylabel(r'$t_{rel}$')\n",
    "\n",
    "plt.plot(nb_nodes[:], t_rels[:])\n",
    "plt.scatter(np.arange(nb_nodes.size)+5, t_rels, c='r')\n",
    "# plt.plot(lamdas, t_rels/t_rels.max())\n",
    "\n",
    "# plt.vlines(x=lamda_c, ymin=0, ymax=1, colors='r', linestyles='-.')\n",
    "# plt.vlines(x=lamda_cp, ymin=0, ymax=1, colors='r', linestyles='-.')\n",
    "\n",
    "# plt.savefig('/Users/philchen/Desktop/n-t_rel.png',dpi=150)\n",
    "plt.show()"
   ]
  }
 ],
 "metadata": {
  "kernelspec": {
   "display_name": "Python 3",
   "language": "python",
   "name": "python3"
  },
  "language_info": {
   "codemirror_mode": {
    "name": "ipython",
    "version": 3
   },
   "file_extension": ".py",
   "mimetype": "text/x-python",
   "name": "python",
   "nbconvert_exporter": "python",
   "pygments_lexer": "ipython3",
   "version": "3.6.1"
  }
 },
 "nbformat": 4,
 "nbformat_minor": 2
}
